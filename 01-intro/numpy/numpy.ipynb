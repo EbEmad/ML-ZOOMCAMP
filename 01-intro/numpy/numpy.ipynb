{
 "cells": [
  {
   "cell_type": "code",
   "execution_count": 1,
   "id": "3a02ec3f-db12-4e3e-9038-97aea1df693d",
   "metadata": {},
   "outputs": [],
   "source": [
    "import numpy as np"
   ]
  },
  {
   "cell_type": "markdown",
   "id": "bd4bb4b1-5cd8-412c-815d-a024847c4e9d",
   "metadata": {},
   "source": [
    "### Creating Arrays"
   ]
  },
  {
   "cell_type": "code",
   "execution_count": 4,
   "id": "97499531-cb6a-445d-9a34-f555ed385aeb",
   "metadata": {},
   "outputs": [
    {
     "data": {
      "text/plain": [
       "array([0., 0., 0., 0., 0., 0., 0., 0., 0., 0.])"
      ]
     },
     "execution_count": 4,
     "metadata": {},
     "output_type": "execute_result"
    }
   ],
   "source": [
    "zeros_array=np.zeros(10)\n",
    "zeros_array"
   ]
  },
  {
   "cell_type": "code",
   "execution_count": 5,
   "id": "2cfa3136-1f5f-4026-a7a2-97243177a058",
   "metadata": {},
   "outputs": [
    {
     "data": {
      "text/plain": [
       "array([1., 1., 1., 1., 1., 1., 1., 1., 1., 1.])"
      ]
     },
     "execution_count": 5,
     "metadata": {},
     "output_type": "execute_result"
    }
   ],
   "source": [
    "ones_array = np.ones(10)\n",
    "ones_array"
   ]
  },
  {
   "cell_type": "code",
   "execution_count": 6,
   "id": "0b299341-b8f0-45db-96dd-8855a605a622",
   "metadata": {},
   "outputs": [
    {
     "data": {
      "text/plain": [
       "array([3, 3, 3, 3, 3, 3, 3, 3, 3, 3])"
      ]
     },
     "execution_count": 6,
     "metadata": {},
     "output_type": "execute_result"
    }
   ],
   "source": [
    "constant_array = np.full(10, 3)\n",
    "constant_array"
   ]
  },
  {
   "cell_type": "markdown",
   "id": "18376185-39fa-4892-a7f6-386fe91a54a4",
   "metadata": {},
   "source": [
    "### Converting Lists to Arrays"
   ]
  },
  {
   "cell_type": "code",
   "execution_count": 9,
   "id": "67b7a0ac-a4af-4afc-b85e-6f06ae378138",
   "metadata": {},
   "outputs": [
    {
     "data": {
      "text/plain": [
       "array([2, 3, 4])"
      ]
     },
     "execution_count": 9,
     "metadata": {},
     "output_type": "execute_result"
    }
   ],
   "source": [
    "my_list = [2, 3, 4]\n",
    "arr=np.array(my_list)\n",
    "arr"
   ]
  },
  {
   "cell_type": "markdown",
   "id": "5c026fa4-313b-4bc1-948a-05726c000503",
   "metadata": {},
   "source": [
    "### Generating Ranges of Numbers"
   ]
  },
  {
   "cell_type": "code",
   "execution_count": 12,
   "id": "72b68a93-6875-4a28-9590-a3beb4b29422",
   "metadata": {},
   "outputs": [
    {
     "data": {
      "text/plain": [
       "array([0, 1, 2, 3, 4, 5, 6, 7, 8, 9])"
      ]
     },
     "execution_count": 12,
     "metadata": {},
     "output_type": "execute_result"
    }
   ],
   "source": [
    "range_numbers=np.arange(10)\n",
    "range_numbers"
   ]
  },
  {
   "cell_type": "markdown",
   "id": "e1f5d781-e4d7-4d7c-9851-01d12358b412",
   "metadata": {},
   "source": [
    "### Creating Arrays with Linear Spacing"
   ]
  },
  {
   "cell_type": "code",
   "execution_count": 13,
   "id": "071486e3-4ad5-4c38-bced-c192b8145f19",
   "metadata": {},
   "outputs": [
    {
     "data": {
      "text/plain": [
       "array([0. , 0.1, 0.2, 0.3, 0.4, 0.5, 0.6, 0.7, 0.8, 0.9, 1. ])"
      ]
     },
     "execution_count": 13,
     "metadata": {},
     "output_type": "execute_result"
    }
   ],
   "source": [
    "line_space=np.linspace(0,1,11)\n",
    "line_space"
   ]
  },
  {
   "cell_type": "markdown",
   "id": "b21f4227-7b5e-45f6-a777-0cf32ad28858",
   "metadata": {},
   "source": [
    "### Multi-dimensional Arrays"
   ]
  },
  {
   "cell_type": "code",
   "execution_count": 15,
   "id": "4e6df95f-3eba-43d8-b2c2-4a8f36ecbe2d",
   "metadata": {},
   "outputs": [
    {
     "data": {
      "text/plain": [
       "array([[0., 0.],\n",
       "       [0., 0.]])"
      ]
     },
     "execution_count": 15,
     "metadata": {},
     "output_type": "execute_result"
    }
   ],
   "source": [
    "zeros_matrix = np.zeros((2, 2))\n",
    "zeros_matrix"
   ]
  },
  {
   "cell_type": "code",
   "execution_count": 17,
   "id": "28cbfd6c-c1d4-4a83-af75-035a3982c16d",
   "metadata": {},
   "outputs": [
    {
     "data": {
      "text/plain": [
       "array([[3, 3],\n",
       "       [3, 3]])"
      ]
     },
     "execution_count": 17,
     "metadata": {},
     "output_type": "execute_result"
    }
   ],
   "source": [
    "constant_matrix = np.full((2, 2), 3)\n",
    "constant_matrix"
   ]
  },
  {
   "cell_type": "markdown",
   "id": "cdbeb80f-7d66-4c0f-aba3-51f6e7a9ad3c",
   "metadata": {},
   "source": [
    "### Generating Random Arrays"
   ]
  },
  {
   "cell_type": "code",
   "execution_count": 32,
   "id": "638a2b73-4e29-41a8-aa20-648d2036fcb3",
   "metadata": {},
   "outputs": [
    {
     "data": {
      "text/plain": [
       "array([[0.37454012, 0.95071431],\n",
       "       [0.73199394, 0.59865848]])"
      ]
     },
     "execution_count": 32,
     "metadata": {},
     "output_type": "execute_result"
    }
   ],
   "source": [
    "np.random.seed(42)\n",
    "random_array=np.random.rand(2,2)\n",
    "random_array"
   ]
  },
  {
   "cell_type": "code",
   "execution_count": 30,
   "id": "a1082d8b-8a13-4a34-bae5-e0ef532b5b34",
   "metadata": {},
   "outputs": [
    {
     "data": {
      "text/plain": [
       "array([[0.56446424, 0.02550067],\n",
       "       [0.47319325, 0.6591906 ]])"
      ]
     },
     "execution_count": 30,
     "metadata": {},
     "output_type": "execute_result"
    }
   ],
   "source": [
    "normal_distribution=np.random.randn(2,2)\n",
    "normal_distribution"
   ]
  },
  {
   "cell_type": "code",
   "execution_count": 31,
   "id": "45539b8d-e5d8-4b00-96e3-e823c1a2ae77",
   "metadata": {},
   "outputs": [
    {
     "data": {
      "text/plain": [
       "array([[52, 23],\n",
       "       [25, 88]])"
      ]
     },
     "execution_count": 31,
     "metadata": {},
     "output_type": "execute_result"
    }
   ],
   "source": [
    "random_integers=np.random.randint(low=0,high=100,size=(2,2))\n",
    "random_integers"
   ]
  },
  {
   "cell_type": "markdown",
   "id": "16830d56-e2a1-4f4f-b52a-aefc786eec9c",
   "metadata": {},
   "source": [
    "### Array Operations"
   ]
  },
  {
   "cell_type": "code",
   "execution_count": 38,
   "id": "21722f6e-adf1-4740-9d52-a9a2799a4182",
   "metadata": {},
   "outputs": [
    {
     "data": {
      "text/plain": [
       "array([[2., 2.],\n",
       "       [2., 2.]])"
      ]
     },
     "execution_count": 38,
     "metadata": {},
     "output_type": "execute_result"
    }
   ],
   "source": [
    "arr=np.ones((2,2))\n",
    "arr+1"
   ]
  },
  {
   "cell_type": "code",
   "execution_count": 40,
   "id": "acccb2d2-945b-49b3-bf19-fbae9cf64262",
   "metadata": {},
   "outputs": [
    {
     "data": {
      "text/plain": [
       "array([[4., 4.],\n",
       "       [4., 4.]])"
      ]
     },
     "execution_count": 40,
     "metadata": {},
     "output_type": "execute_result"
    }
   ],
   "source": [
    "arr*4"
   ]
  },
  {
   "cell_type": "markdown",
   "id": "86e2c16a-f0b2-496e-a749-a62ba7d5130e",
   "metadata": {},
   "source": [
    "### Comparison Operations"
   ]
  },
  {
   "cell_type": "code",
   "execution_count": 42,
   "id": "db03be35-9e7e-4d77-b6b7-af7f285b9fdc",
   "metadata": {},
   "outputs": [
    {
     "data": {
      "text/plain": [
       "array([False, False,  True,  True])"
      ]
     },
     "execution_count": 42,
     "metadata": {},
     "output_type": "execute_result"
    }
   ],
   "source": [
    "arr = np.array([1, 2, 3, 4])\n",
    "greater_than_2 = arr > 2  # Produces [False, False, True, True]\n",
    "greater_than_2"
   ]
  },
  {
   "cell_type": "markdown",
   "id": "91aa00ce-893b-4573-a8bc-8793cc1ca48e",
   "metadata": {},
   "source": [
    "### Selecting Elements Based on Conditions"
   ]
  },
  {
   "cell_type": "code",
   "execution_count": 43,
   "id": "33800658-ac61-4d75-b0c7-ea81c185f7d0",
   "metadata": {},
   "outputs": [
    {
     "data": {
      "text/plain": [
       "array([3, 4])"
      ]
     },
     "execution_count": 43,
     "metadata": {},
     "output_type": "execute_result"
    }
   ],
   "source": [
    "greater_than_2 = arr[arr > 2]\n",
    "greater_than_2"
   ]
  },
  {
   "cell_type": "code",
   "execution_count": 44,
   "id": "ec4b4853-f3f3-45ff-95c1-712c4f77853b",
   "metadata": {},
   "outputs": [
    {
     "data": {
      "text/plain": [
       "np.int64(1)"
      ]
     },
     "execution_count": 44,
     "metadata": {},
     "output_type": "execute_result"
    }
   ],
   "source": [
    "arr.min()"
   ]
  },
  {
   "cell_type": "code",
   "execution_count": 45,
   "id": "2a3adf1e-de4f-4bbf-808d-46c8c30bad45",
   "metadata": {},
   "outputs": [
    {
     "data": {
      "text/plain": [
       "np.int64(4)"
      ]
     },
     "execution_count": 45,
     "metadata": {},
     "output_type": "execute_result"
    }
   ],
   "source": [
    "arr.max()"
   ]
  },
  {
   "cell_type": "code",
   "execution_count": 46,
   "id": "38981d3e-6bb8-4350-abee-0d65034e45f9",
   "metadata": {},
   "outputs": [
    {
     "data": {
      "text/plain": [
       "np.int64(10)"
      ]
     },
     "execution_count": 46,
     "metadata": {},
     "output_type": "execute_result"
    }
   ],
   "source": [
    "arr.sum()"
   ]
  },
  {
   "cell_type": "code",
   "execution_count": 47,
   "id": "0899a965-8a80-4929-96ac-c87856246511",
   "metadata": {},
   "outputs": [
    {
     "data": {
      "text/plain": [
       "np.float64(2.5)"
      ]
     },
     "execution_count": 47,
     "metadata": {},
     "output_type": "execute_result"
    }
   ],
   "source": [
    "arr.mean()"
   ]
  },
  {
   "cell_type": "code",
   "execution_count": 48,
   "id": "c462252b-1d8f-4102-aeba-6abc1ba7ebe1",
   "metadata": {},
   "outputs": [
    {
     "data": {
      "text/plain": [
       "np.float64(1.118033988749895)"
      ]
     },
     "execution_count": 48,
     "metadata": {},
     "output_type": "execute_result"
    }
   ],
   "source": [
    "arr.std()"
   ]
  },
  {
   "cell_type": "code",
   "execution_count": null,
   "id": "9bc6080a-44d3-44f1-8d55-1eac656c7f31",
   "metadata": {},
   "outputs": [],
   "source": []
  }
 ],
 "metadata": {
  "kernelspec": {
   "display_name": "Python 3 (ipykernel)",
   "language": "python",
   "name": "python3"
  },
  "language_info": {
   "codemirror_mode": {
    "name": "ipython",
    "version": 3
   },
   "file_extension": ".py",
   "mimetype": "text/x-python",
   "name": "python",
   "nbconvert_exporter": "python",
   "pygments_lexer": "ipython3",
   "version": "3.10.18"
  }
 },
 "nbformat": 4,
 "nbformat_minor": 5
}
