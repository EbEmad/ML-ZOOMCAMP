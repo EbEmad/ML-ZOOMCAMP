{
 "cells": [
  {
   "cell_type": "code",
   "execution_count": 1,
   "id": "fdae8b89-6e98-4cec-98df-89c679a0f2f5",
   "metadata": {},
   "outputs": [],
   "source": [
    "import numpy as np"
   ]
  },
  {
   "cell_type": "markdown",
   "id": "2c2a3203-773b-42bc-9d1a-0fbafbc1af15",
   "metadata": {},
   "source": [
    "### Vector operations"
   ]
  },
  {
   "cell_type": "code",
   "execution_count": 17,
   "id": "005c39f6-a353-40ea-9095-f0a64471ea4e",
   "metadata": {},
   "outputs": [],
   "source": [
    "u = np.array([2, 4, 5, 6])\n",
    "v = np.array([1, 0, 0, 2])"
   ]
  },
  {
   "cell_type": "code",
   "execution_count": 18,
   "id": "4b2071f3-91aa-4615-9cb4-25422024e58e",
   "metadata": {},
   "outputs": [
    {
     "data": {
      "text/plain": [
       "array([3, 4, 5, 8])"
      ]
     },
     "execution_count": 18,
     "metadata": {},
     "output_type": "execute_result"
    }
   ],
   "source": [
    "# addition \n",
    "u + v"
   ]
  },
  {
   "cell_type": "code",
   "execution_count": 19,
   "id": "d20b38c6-c789-48f2-bde3-dac81b2fcb9f",
   "metadata": {},
   "outputs": [
    {
     "data": {
      "text/plain": [
       "array([1, 4, 5, 4])"
      ]
     },
     "execution_count": 19,
     "metadata": {},
     "output_type": "execute_result"
    }
   ],
   "source": [
    "# subtraction \n",
    "u - v"
   ]
  },
  {
   "cell_type": "code",
   "execution_count": 20,
   "id": "61b4c347-d1e0-4350-adaa-81d8dcb367f7",
   "metadata": {},
   "outputs": [
    {
     "data": {
      "text/plain": [
       "array([2, 0, 0, 4])"
      ]
     },
     "execution_count": 20,
     "metadata": {},
     "output_type": "execute_result"
    }
   ],
   "source": [
    "# scalar multiplication \n",
    "2 * v"
   ]
  },
  {
   "cell_type": "markdown",
   "id": "62b33677-21c4-4c6e-bb7e-27a9477d9c0a",
   "metadata": {},
   "source": [
    "### Multiplication"
   ]
  },
  {
   "cell_type": "code",
   "execution_count": 21,
   "id": "a889af8f-9ab7-42f9-81ee-e2f912f17d5e",
   "metadata": {},
   "outputs": [],
   "source": [
    "def vector_vector_multiplication(u,v):\n",
    "    assert u.shape[0]==v.shape[0]\n",
    "\n",
    "    n=u.shape[0]\n",
    "    res=0\n",
    "    for i in range(n):\n",
    "        res=res+u[i]*v[i]\n",
    "    return res"
   ]
  },
  {
   "cell_type": "code",
   "execution_count": 22,
   "id": "3cb0fd2e-3733-47e2-ac91-b96567a15a3b",
   "metadata": {},
   "outputs": [
    {
     "data": {
      "text/plain": [
       "np.int64(14)"
      ]
     },
     "execution_count": 22,
     "metadata": {},
     "output_type": "execute_result"
    }
   ],
   "source": [
    "vector_vector_multiplication(u,v)"
   ]
  },
  {
   "cell_type": "code",
   "execution_count": 23,
   "id": "c06e5aa9-8554-4c99-8fe5-e1998a1b1d8f",
   "metadata": {},
   "outputs": [
    {
     "data": {
      "text/plain": [
       "np.int64(14)"
      ]
     },
     "execution_count": 23,
     "metadata": {},
     "output_type": "execute_result"
    }
   ],
   "source": [
    "u.dot(v)"
   ]
  },
  {
   "cell_type": "code",
   "execution_count": 29,
   "id": "54a410cf-86eb-483d-871f-30125b28c62f",
   "metadata": {},
   "outputs": [],
   "source": [
    "u = np.array([\n",
    "    [2, 4, 5, 6],\n",
    "    [1, 2, 1, 2],\n",
    "    [3, 1, 2, 1],\n",
    "])"
   ]
  },
  {
   "cell_type": "code",
   "execution_count": 30,
   "id": "04bafe95-9ee4-4626-8ea9-1e42599dd629",
   "metadata": {},
   "outputs": [
    {
     "data": {
      "text/plain": [
       "(3, 4)"
      ]
     },
     "execution_count": 30,
     "metadata": {},
     "output_type": "execute_result"
    }
   ],
   "source": [
    "u.shape"
   ]
  },
  {
   "cell_type": "markdown",
   "id": "da329bf4-f62d-453c-bb43-8e88c5d15a17",
   "metadata": {},
   "source": [
    "### Matrix-vector multiplication"
   ]
  },
  {
   "cell_type": "code",
   "execution_count": 33,
   "id": "b23d1ef1-ff75-463b-b0a8-50cb1b58f33c",
   "metadata": {},
   "outputs": [],
   "source": [
    "def matrix_vector_multiplication(u,v):\n",
    "    assert u.shape[1]==v.shape[0]\n",
    "    num_rows=u.shape[0]\n",
    "    res=np.zeros(num_rows)\n",
    "    for i in range(num_rows):\n",
    "        res[i]=vector_vector_multiplication(u[i],v)\n",
    "    return res"
   ]
  },
  {
   "cell_type": "code",
   "execution_count": 34,
   "id": "894320c4-f667-4525-a32a-01f7418567ae",
   "metadata": {},
   "outputs": [
    {
     "data": {
      "text/plain": [
       "array([14.,  5.,  5.])"
      ]
     },
     "execution_count": 34,
     "metadata": {},
     "output_type": "execute_result"
    }
   ],
   "source": [
    "matrix_vector_multiplication(u,v)"
   ]
  },
  {
   "cell_type": "code",
   "execution_count": 36,
   "id": "a7483fc9-c765-4346-838a-103effcb2ed6",
   "metadata": {},
   "outputs": [
    {
     "data": {
      "text/plain": [
       "array([14,  5,  5])"
      ]
     },
     "execution_count": 36,
     "metadata": {},
     "output_type": "execute_result"
    }
   ],
   "source": [
    "u.dot(v)"
   ]
  },
  {
   "cell_type": "markdown",
   "id": "92a25505-cd72-4a98-9ef3-c757270ce1fd",
   "metadata": {},
   "source": [
    "### Identity matrix"
   ]
  },
  {
   "cell_type": "code",
   "execution_count": 38,
   "id": "f79882e9-79e9-4a3f-9cf5-4fa1316c62fc",
   "metadata": {},
   "outputs": [
    {
     "data": {
      "text/plain": [
       "array([[1., 0., 0.],\n",
       "       [0., 1., 0.],\n",
       "       [0., 0., 1.]])"
      ]
     },
     "execution_count": 38,
     "metadata": {},
     "output_type": "execute_result"
    }
   ],
   "source": [
    "I = np.eye(3)\n",
    "I"
   ]
  },
  {
   "cell_type": "markdown",
   "id": "5a57615a-2d05-4f01-9ca1-054e635e632f",
   "metadata": {},
   "source": [
    "### Inverse"
   ]
  },
  {
   "cell_type": "code",
   "execution_count": 43,
   "id": "156af4f8-88f7-4700-b60e-ae204b8c11cc",
   "metadata": {},
   "outputs": [
    {
     "data": {
      "text/plain": [
       "array([[1, 2, 3],\n",
       "       [0, 1, 4],\n",
       "       [5, 6, 0]])"
      ]
     },
     "execution_count": 43,
     "metadata": {},
     "output_type": "execute_result"
    }
   ],
   "source": [
    "vs=np.array([[1, 2, 3],\n",
    "              [0, 1, 4],\n",
    "              [5, 6, 0]])\n",
    "vs"
   ]
  },
  {
   "cell_type": "code",
   "execution_count": 44,
   "id": "150c9e6a-033f-45ca-9445-948cb8200e95",
   "metadata": {},
   "outputs": [
    {
     "data": {
      "text/plain": [
       "array([[-24.,  18.,   5.],\n",
       "       [ 20., -15.,  -4.],\n",
       "       [ -5.,   4.,   1.]])"
      ]
     },
     "execution_count": 44,
     "metadata": {},
     "output_type": "execute_result"
    }
   ],
   "source": [
    "vs_inv=np.linalg.inv(vs)\n",
    "vs_inv"
   ]
  },
  {
   "cell_type": "code",
   "execution_count": 46,
   "id": "9933c6e1-1825-4323-8df0-58693137989b",
   "metadata": {},
   "outputs": [
    {
     "data": {
      "text/plain": [
       "array([[ 1.0000000e+00,  0.0000000e+00,  0.0000000e+00],\n",
       "       [ 0.0000000e+00,  1.0000000e+00,  0.0000000e+00],\n",
       "       [ 0.0000000e+00, -8.8817842e-16,  1.0000000e+00]])"
      ]
     },
     "execution_count": 46,
     "metadata": {},
     "output_type": "execute_result"
    }
   ],
   "source": [
    "vs_inv.dot(vs)"
   ]
  },
  {
   "cell_type": "code",
   "execution_count": null,
   "id": "b16a6336-8012-4893-9a1d-3e8d79a92955",
   "metadata": {},
   "outputs": [],
   "source": []
  }
 ],
 "metadata": {
  "kernelspec": {
   "display_name": "Python 3 (ipykernel)",
   "language": "python",
   "name": "python3"
  },
  "language_info": {
   "codemirror_mode": {
    "name": "ipython",
    "version": 3
   },
   "file_extension": ".py",
   "mimetype": "text/x-python",
   "name": "python",
   "nbconvert_exporter": "python",
   "pygments_lexer": "ipython3",
   "version": "3.10.18"
  }
 },
 "nbformat": 4,
 "nbformat_minor": 5
}
